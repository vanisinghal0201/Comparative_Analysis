{
  "nbformat": 4,
  "nbformat_minor": 0,
  "metadata": {
    "colab": {
      "name": "random_over_sampler.ipynb",
      "provenance": [],
      "authorship_tag": "ABX9TyNw1cXtOFDOwY55/4X3Pl4W",
      "include_colab_link": true
    },
    "kernelspec": {
      "name": "python3",
      "display_name": "Python 3"
    }
  },
  "cells": [
    {
      "cell_type": "markdown",
      "metadata": {
        "id": "view-in-github",
        "colab_type": "text"
      },
      "source": [
        "<a href=\"https://colab.research.google.com/github/vanisinghal0201/Comparative_Analysis/blob/master/random_over_sampler.ipynb\" target=\"_parent\"><img src=\"https://colab.research.google.com/assets/colab-badge.svg\" alt=\"Open In Colab\"/></a>"
      ]
    },
    {
      "cell_type": "code",
      "metadata": {
        "id": "ggYiQ3jD9jIt",
        "colab_type": "code",
        "colab": {
          "base_uri": "https://localhost:8080/",
          "height": 72
        },
        "outputId": "9aff3b8d-17e9-452c-d788-39700dd51bb1"
      },
      "source": [
        "import numpy as np\n",
        "import pandas as pd\n",
        "import matplotlib.pyplot as plt\n",
        "import seaborn as sns\n",
        "import sklearn as sk\n",
        "import copy"
      ],
      "execution_count": null,
      "outputs": [
        {
          "output_type": "stream",
          "text": [
            "/usr/local/lib/python3.6/dist-packages/statsmodels/tools/_testing.py:19: FutureWarning: pandas.util.testing is deprecated. Use the functions in the public API at pandas.testing instead.\n",
            "  import pandas.util.testing as tm\n"
          ],
          "name": "stderr"
        }
      ]
    },
    {
      "cell_type": "code",
      "metadata": {
        "id": "e1eXouMi906Y",
        "colab_type": "code",
        "colab": {
          "resources": {
            "http://localhost:8080/nbextensions/google.colab/files.js": {
              "data": "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",
              "ok": true,
              "headers": [
                [
                  "content-type",
                  "application/javascript"
                ]
              ],
              "status": 200,
              "status_text": ""
            }
          },
          "base_uri": "https://localhost:8080/",
          "height": 74
        },
        "outputId": "fd04e47b-320c-4a9d-f055-ad1bbeba44b2"
      },
      "source": [
        "from google.colab import files\n",
        "uploaded = files.upload()"
      ],
      "execution_count": null,
      "outputs": [
        {
          "output_type": "display_data",
          "data": {
            "text/html": [
              "\n",
              "     <input type=\"file\" id=\"files-9416acde-4b2d-4c7a-90cf-e5fc293dfe30\" name=\"files[]\" multiple disabled\n",
              "        style=\"border:none\" />\n",
              "     <output id=\"result-9416acde-4b2d-4c7a-90cf-e5fc293dfe30\">\n",
              "      Upload widget is only available when the cell has been executed in the\n",
              "      current browser session. Please rerun this cell to enable.\n",
              "      </output>\n",
              "      <script src=\"/nbextensions/google.colab/files.js\"></script> "
            ],
            "text/plain": [
              "<IPython.core.display.HTML object>"
            ]
          },
          "metadata": {
            "tags": []
          }
        },
        {
          "output_type": "stream",
          "text": [
            "Saving dataset_linux_ext3.csv to dataset_linux_ext3.csv\n"
          ],
          "name": "stdout"
        }
      ]
    },
    {
      "cell_type": "code",
      "metadata": {
        "id": "cUUfl1Cr93ef",
        "colab_type": "code",
        "colab": {}
      },
      "source": [
        "import io\n",
        "df = pd.read_csv(io.BytesIO(uploaded['dataset_linux_ext3.csv']))"
      ],
      "execution_count": null,
      "outputs": []
    },
    {
      "cell_type": "code",
      "metadata": {
        "id": "a_XjYptF96pn",
        "colab_type": "code",
        "colab": {}
      },
      "source": [
        "cols =['AltAvgLineBlank', 'AltAvgLineCode', 'AltAvgLineComment',\n",
        "       'AltCountLineBlank', 'AltCountLineCode', 'AltCountLineComment',\n",
        "       'AvgCyclomatic', 'AvgCyclomaticModified', 'AvgCyclomaticStrict',\n",
        "       'AvgEssential', 'AvgLine', 'AvgLineBlank', 'AvgLineCode',\n",
        "       'AvgLineComment', 'CountClassBase', 'CountClassCoupled',\n",
        "       'CountClassDerived', 'CountDeclClass', 'CountDeclClassMethod',\n",
        "       'CountDeclClassVariable', 'CountDeclFunction',\n",
        "       'CountDeclInstanceMethod', 'CountDeclInstanceVariable',\n",
        "       'CountDeclInstanceVariablePrivate',\n",
        "       'CountDeclInstanceVariableProtected', 'CountDeclInstanceVariablePublic',\n",
        "       'CountDeclMethod', 'CountDeclMethodAll', 'CountDeclMethodConst',\n",
        "       'CountDeclMethodFriend', 'CountDeclMethodPrivate',\n",
        "       'CountDeclMethodProtected', 'CountDeclMethodPublic', 'CountInput',\n",
        "       'CountLine', 'CountLineBlank', 'CountLineCode', 'CountLineCodeDecl',\n",
        "       'CountLineCodeExe', 'CountLineComment', 'CountLineInactive',\n",
        "       'CountLinePreprocessor', 'CountOutput', 'CountPath', 'CountSemicolon',\n",
        "       'CountStmt', 'CountStmtDecl', 'CountStmtEmpty', 'CountStmtExe',\n",
        "       'Cyclomatic', 'CyclomaticModified', 'CyclomaticStrict', 'Essential',\n",
        "       'Knots', 'MaxCyclomatic', 'MaxCyclomaticModified',\n",
        "       'MaxCyclomaticStrict', 'MaxEssentialKnots', 'MaxInheritanceTree',\n",
        "       'MaxNesting', 'MinEssentialKnots', 'PercentLackOfCohesion',\n",
        "       'RatioCommentToCode', 'SumCyclomatic', 'SumCyclomaticModified',\n",
        "       'SumCyclomaticStrict', 'SumEssential', 'n1', 'n2', 'N1', 'N2', 'Len',\n",
        "       'Voc', 'Vol', 'Dif', 'Eff', 'AllocOps', 'DeallocOps', 'DerefUse',\n",
        "       'UniqueDerefUse', 'DerefSet', 'UniqueDerefSet']"
      ],
      "execution_count": null,
      "outputs": []
    },
    {
      "cell_type": "code",
      "metadata": {
        "id": "clDQvb5U9-Wj",
        "colab_type": "code",
        "colab": {}
      },
      "source": [
        "X = df[cols]\n",
        "y = df['AgingRelatedBugs']"
      ],
      "execution_count": null,
      "outputs": []
    },
    {
      "cell_type": "code",
      "metadata": {
        "id": "ekNojyl9-C5q",
        "colab_type": "code",
        "colab": {
          "base_uri": "https://localhost:8080/",
          "height": 52
        },
        "outputId": "19177be2-d70f-46c3-d315-1429a5e08532"
      },
      "source": [
        "from sklearn.preprocessing import LabelEncoder\n",
        "enc = LabelEncoder()\n",
        "y = enc.fit_transform(y)\n",
        "y"
      ],
      "execution_count": null,
      "outputs": [
        {
          "output_type": "execute_result",
          "data": {
            "text/plain": [
              "array([0, 0, 0, 0, 0, 1, 0, 1, 0, 0, 1, 0, 0, 0, 0, 0, 0, 0, 1, 0, 0, 1,\n",
              "       0, 0, 0, 0, 0, 0, 0])"
            ]
          },
          "metadata": {
            "tags": []
          },
          "execution_count": 66
        }
      ]
    },
    {
      "cell_type": "code",
      "metadata": {
        "id": "5girZJkm-GRh",
        "colab_type": "code",
        "colab": {}
      },
      "source": [
        "from imblearn.over_sampling import RandomOverSampler"
      ],
      "execution_count": null,
      "outputs": []
    },
    {
      "cell_type": "code",
      "metadata": {
        "id": "MI_-3h8a-J2n",
        "colab_type": "code",
        "colab": {
          "base_uri": "https://localhost:8080/",
          "height": 72
        },
        "outputId": "219f4511-c297-48be-e70d-1ec19bb8435c"
      },
      "source": [
        "ros = RandomOverSampler()\n",
        "X_res, y_res = ros.fit_sample(X, y)"
      ],
      "execution_count": null,
      "outputs": [
        {
          "output_type": "stream",
          "text": [
            "/usr/local/lib/python3.6/dist-packages/sklearn/utils/deprecation.py:87: FutureWarning: Function safe_indexing is deprecated; safe_indexing is deprecated in version 0.22 and will be removed in version 0.24.\n",
            "  warnings.warn(msg, category=FutureWarning)\n"
          ],
          "name": "stderr"
        }
      ]
    },
    {
      "cell_type": "code",
      "metadata": {
        "id": "4GD2UyeK-NiM",
        "colab_type": "code",
        "colab": {
          "base_uri": "https://localhost:8080/",
          "height": 105
        },
        "outputId": "630d0fb9-f8eb-4322-d59d-ace1afaed61e"
      },
      "source": [
        "print('After OverSampling, the shape of X: {}'.format(X_res.shape))\n",
        "print('After OverSampling, the shape of y: {} \\n'.format(y_res.shape))\n",
        "\n",
        "print(\"After OverSampling, counts of label '1': {}\".format(sum(y_res==1)))\n",
        "print(\"After OverSampling, counts of label '0': {}\".format(sum(y_res==0)))"
      ],
      "execution_count": null,
      "outputs": [
        {
          "output_type": "stream",
          "text": [
            "After OverSampling, the shape of X: (48, 82)\n",
            "After OverSampling, the shape of y: (48,) \n",
            "\n",
            "After OverSampling, counts of label '1': 24\n",
            "After OverSampling, counts of label '0': 24\n"
          ],
          "name": "stdout"
        }
      ]
    },
    {
      "cell_type": "code",
      "metadata": {
        "id": "NVFNGTI5-RGC",
        "colab_type": "code",
        "colab": {}
      },
      "source": [
        "import pandas as pd\n",
        "import numpy as np\n",
        "import math\n",
        "from sklearn.model_selection import train_test_split\n",
        "from sklearn.model_selection import StratifiedKFold\n",
        "from sklearn.neighbors import KNeighborsClassifier\n",
        "from sklearn.linear_model import LogisticRegression\n",
        "from sklearn.naive_bayes import GaussianNB\n",
        "from sklearn.tree import DecisionTreeClassifier\n",
        "from sklearn.ensemble import RandomForestClassifier\n",
        "from sklearn.ensemble import BaggingClassifier\n",
        "from sklearn.ensemble import GradientBoostingClassifier\n",
        "from sklearn.svm import SVC\n",
        "from sklearn.utils import shuffle\n",
        "from sklearn.linear_model import SGDClassifier \n",
        "from sklearn.model_selection import GridSearchCV\n",
        "from sklearn.model_selection import RandomizedSearchCV\n",
        "from sklearn.model_selection import cross_val_score\n",
        "from sklearn.model_selection import cross_val_predict\n",
        "from sklearn.metrics import confusion_matrix\n",
        "from sklearn.metrics import classification_report\n",
        "from sklearn.metrics import roc_curve, auc\n",
        "from sklearn.metrics import accuracy_score,make_scorer\n",
        "from numpy.random import seed\n",
        "seed(1)"
      ],
      "execution_count": null,
      "outputs": []
    },
    {
      "cell_type": "code",
      "metadata": {
        "id": "V-yVU-jO-U0Q",
        "colab_type": "code",
        "colab": {}
      },
      "source": [
        "X, y = shuffle(X_res, y_res)"
      ],
      "execution_count": null,
      "outputs": []
    },
    {
      "cell_type": "markdown",
      "metadata": {
        "id": "MmpAZSor-eCz",
        "colab_type": "text"
      },
      "source": [
        "SVM"
      ]
    },
    {
      "cell_type": "code",
      "metadata": {
        "id": "716LFzlO-Yf9",
        "colab_type": "code",
        "colab": {}
      },
      "source": [
        "for i in [10]:\n",
        "  originalclass = []\n",
        "  predictedclass = []\n",
        "  def classification_report_with_accuracy_score(y_true, y_pred):\n",
        "    originalclass.extend(y_true)\n",
        "    predictedclass.extend(y_pred)\n",
        "    return accuracy_score(y_true, y_pred) \n",
        "  model = SVC(random_state=1)\n",
        "  kernel = ['poly', 'rbf', 'sigmoid']\n",
        "  C = [50, 10, 1.0, 0.1, 0.01]\n",
        "  gamma = ['scale']\n",
        "  grid = dict(kernel=kernel,C=C,gamma=gamma)\n",
        "  cv = StratifiedKFold(n_splits=i, shuffle=True, random_state=1)\n",
        "  grid_search = GridSearchCV(estimator=model, param_grid=grid, n_jobs=-1, cv=cv, scoring='accuracy',error_score=0)\n",
        "  nested_score = cross_val_score(grid_search, X, y, cv=cv, scoring=make_scorer(classification_report_with_accuracy_score)) \n",
        "  print(\"\\n\", i, \" fold\")\n",
        "  print(classification_report(originalclass, predictedclass)) \n",
        "  false_positive_rate, true_positive_rate, thresholds = roc_curve(originalclass, predictedclass)\n",
        "  roc_auc = auc(false_positive_rate, true_positive_rate)\n",
        "  tn, fp, fn, tp = confusion_matrix(originalclass, predictedclass).ravel()\n",
        "  print( tn, fp, fn, tp)\n",
        "  print(\"AUC :\", roc_auc)\n",
        "  print(\"Accuracy :\", np.mean(nested_score))\n"
      ],
      "execution_count": null,
      "outputs": []
    },
    {
      "cell_type": "markdown",
      "metadata": {
        "id": "eqTQMrCW-ipt",
        "colab_type": "text"
      },
      "source": [
        "RANDOM FOREST"
      ]
    },
    {
      "cell_type": "code",
      "metadata": {
        "id": "FnTDlx9--fnk",
        "colab_type": "code",
        "colab": {
          "base_uri": "https://localhost:8080/",
          "height": 263
        },
        "outputId": "8364e7d5-bf97-4597-d051-91c3bb1e5f3e"
      },
      "source": [
        "n_estimators = [10, 100, 1000]\n",
        "max_features = ['sqrt', 'log2']\n",
        "# define grid search\n",
        "grid = dict(n_estimators=n_estimators,max_features=max_features)\n",
        "for i in [10]:\n",
        "  originalclass = []\n",
        "  predictedclass = []\n",
        "  def classification_report_with_accuracy_score(y_true, y_pred):\n",
        "    originalclass.extend(y_true)\n",
        "    predictedclass.extend(y_pred)\n",
        "    return accuracy_score(y_true, y_pred) \n",
        "  model = RandomForestClassifier(random_state=1)\n",
        "  cv = StratifiedKFold(n_splits=i, shuffle=True, random_state=1)\n",
        "  grid_search = GridSearchCV(estimator=model, param_grid=grid, n_jobs=-1, cv=cv, scoring='accuracy',error_score=0)\n",
        "  nested_score = cross_val_score(grid_search, X, y, cv=cv, scoring=make_scorer(classification_report_with_accuracy_score)) \n",
        "  print(\"\\n\", i, \" fold\")\n",
        "  print(classification_report(originalclass, predictedclass)) \n",
        "  tn, fp, fn, tp = confusion_matrix(originalclass, predictedclass).ravel()\n",
        "  print( tn, fp, fn, tp)\n",
        "  false_positive_rate, true_positive_rate, thresholds = roc_curve(originalclass, predictedclass)\n",
        "  roc_auc = auc(false_positive_rate, true_positive_rate)\n",
        "  print(\"AUC :\", roc_auc)\n",
        "  print(\"Accuracy :\", np.mean(nested_score))"
      ],
      "execution_count": null,
      "outputs": [
        {
          "output_type": "stream",
          "text": [
            "\n",
            " 10  fold\n",
            "              precision    recall  f1-score   support\n",
            "\n",
            "           0       1.00      0.75      0.86        24\n",
            "           1       0.80      1.00      0.89        24\n",
            "\n",
            "    accuracy                           0.88        48\n",
            "   macro avg       0.90      0.88      0.87        48\n",
            "weighted avg       0.90      0.88      0.87        48\n",
            "\n",
            "18 6 0 24\n",
            "AUC : 0.875\n",
            "Accuracy : 0.875\n"
          ],
          "name": "stdout"
        }
      ]
    },
    {
      "cell_type": "markdown",
      "metadata": {
        "id": "BAbdBYXQ-oVR",
        "colab_type": "text"
      },
      "source": [
        "KNN"
      ]
    },
    {
      "cell_type": "code",
      "metadata": {
        "id": "kXkJQRdS-lHz",
        "colab_type": "code",
        "colab": {
          "base_uri": "https://localhost:8080/",
          "height": 228
        },
        "outputId": "d49142c6-ed0e-4f92-c7d8-699a59697be4"
      },
      "source": [
        "for i in [10]:\n",
        "  originalclass = []\n",
        "  predictedclass = []\n",
        "  def classification_report_with_accuracy_score(y_true, y_pred):\n",
        "    originalclass.extend(y_true)\n",
        "    predictedclass.extend(y_pred)\n",
        "    return accuracy_score(y_true, y_pred)\n",
        "  model = KNeighborsClassifier()\n",
        "  n_neighbors = range(1, 21, 2)\n",
        "  weights = ['uniform', 'distance']\n",
        "  metric = ['euclidean', 'manhattan', 'minkowski']\n",
        "  grid = dict(n_neighbors=n_neighbors,weights=weights,metric=metric)\n",
        "  cv = StratifiedKFold(n_splits=i, shuffle=True, random_state=1)\n",
        "  grid_search = GridSearchCV(estimator=model, param_grid=grid, n_jobs=-1, cv=cv, scoring='accuracy',error_score=0)\n",
        "  nested_score = cross_val_score(grid_search, X, y, cv=cv, scoring=make_scorer(classification_report_with_accuracy_score)) \n",
        "  print(classification_report(originalclass, predictedclass)) \n",
        "  tn, fp, fn, tp = confusion_matrix(originalclass, predictedclass).ravel()\n",
        "  print( tn, fp, fn, tp)\n",
        "  false_positive_rate, true_positive_rate, thresholds = roc_curve(originalclass, predictedclass)\n",
        "  roc_auc = auc(false_positive_rate, true_positive_rate)\n",
        "  print(roc_auc)\n",
        "  print(np.mean(nested_score))"
      ],
      "execution_count": null,
      "outputs": [
        {
          "output_type": "stream",
          "text": [
            "              precision    recall  f1-score   support\n",
            "\n",
            "           0       1.00      0.93      0.96        28\n",
            "           1       0.93      1.00      0.97        28\n",
            "\n",
            "    accuracy                           0.96        56\n",
            "   macro avg       0.97      0.96      0.96        56\n",
            "weighted avg       0.97      0.96      0.96        56\n",
            "\n",
            "26 2 0 28\n",
            "0.9642857142857143\n",
            "0.9633333333333335\n"
          ],
          "name": "stdout"
        }
      ]
    },
    {
      "cell_type": "markdown",
      "metadata": {
        "id": "6q_eCB43-s4I",
        "colab_type": "text"
      },
      "source": [
        "Naives bayes"
      ]
    },
    {
      "cell_type": "code",
      "metadata": {
        "id": "dj2ULHtz-pfb",
        "colab_type": "code",
        "colab": {}
      },
      "source": [
        "nb=GaussianNB()\n",
        "for i in [10]:\n",
        "  originalclass = []\n",
        "  predictedclass = []\n",
        "  def classification_report_with_accuracy_score(y_true, y_pred):\n",
        "    originalclass.extend(y_true)\n",
        "    predictedclass.extend(y_pred)\n",
        "    return accuracy_score(y_true, y_pred) \n",
        "  cv = StratifiedKFold(n_splits=i, shuffle=True, random_state=1)\n",
        "  nested_score = cross_val_score(nb, X, y, cv=cv, scoring=make_scorer(classification_report_with_accuracy_score)) \n",
        "  print(\"\\n\", i, \" fold\")\n",
        "  print(classification_report(originalclass, predictedclass)) \n",
        "  false_positive_rate, true_positive_rate, thresholds = roc_curve(originalclass, predictedclass)\n",
        "  roc_auc = auc(false_positive_rate, true_positive_rate)\n",
        "  tn, fp, fn, tp = confusion_matrix(originalclass, predictedclass).ravel()\n",
        "  print( tn, fp, fn, tp)\n",
        "  print(\"AUC :\", roc_auc)\n",
        "  print(\"Accuracy :\", np.mean(nested_score))"
      ],
      "execution_count": null,
      "outputs": []
    },
    {
      "cell_type": "markdown",
      "metadata": {
        "id": "1vMZLRar-0Qf",
        "colab_type": "text"
      },
      "source": [
        "logistic regression"
      ]
    },
    {
      "cell_type": "code",
      "metadata": {
        "id": "Zcq-GDLP-wNF",
        "colab_type": "code",
        "colab": {
          "base_uri": "https://localhost:8080/",
          "height": 228
        },
        "outputId": "b95e60bd-c8f6-4693-811b-430f604f846d"
      },
      "source": [
        "for i in [10]:\n",
        "  originalclass = []\n",
        "  predictedclass = []\n",
        "  def classification_report_with_accuracy_score(y_true, y_pred):\n",
        "    originalclass.extend(y_true)\n",
        "    predictedclass.extend(y_pred)\n",
        "    return accuracy_score(y_true, y_pred) \n",
        "  model = LogisticRegression(random_state=1)\n",
        "  solvers = ['liblinear']\n",
        "  penalty = ['l2']\n",
        "  c_values = [100, 10, 1.0, 0.1, 0.01]\n",
        "  grid = dict(solver=solvers,penalty=penalty,C=c_values)\n",
        "  cv = StratifiedKFold(n_splits=i, shuffle=True, random_state=1)\n",
        "  grid_search = GridSearchCV(estimator=model, param_grid=grid, n_jobs=-1, cv=cv, scoring='accuracy',error_score=0)\n",
        "  nested_score = cross_val_score(grid_search, X, y, cv=cv, scoring=make_scorer(classification_report_with_accuracy_score)) \n",
        "  print(classification_report(originalclass, predictedclass)) \n",
        "  tn, fp, fn, tp = confusion_matrix(originalclass, predictedclass).ravel()\n",
        "  print( tn, fp, fn, tp)\n",
        "  false_positive_rate, true_positive_rate, thresholds = roc_curve(originalclass, predictedclass)\n",
        "  roc_auc = auc(false_positive_rate, true_positive_rate)\n",
        "  print(roc_auc)\n",
        "  print(np.mean(nested_score))"
      ],
      "execution_count": null,
      "outputs": [
        {
          "output_type": "stream",
          "text": [
            "              precision    recall  f1-score   support\n",
            "\n",
            "           0       1.00      0.71      0.83        28\n",
            "           1       0.78      1.00      0.88        28\n",
            "\n",
            "    accuracy                           0.86        56\n",
            "   macro avg       0.89      0.86      0.85        56\n",
            "weighted avg       0.89      0.86      0.85        56\n",
            "\n",
            "20 8 0 28\n",
            "0.8571428571428572\n",
            "0.8500000000000002\n"
          ],
          "name": "stdout"
        }
      ]
    },
    {
      "cell_type": "markdown",
      "metadata": {
        "id": "wBE1hllp-67y",
        "colab_type": "text"
      },
      "source": [
        "decision tree"
      ]
    },
    {
      "cell_type": "code",
      "metadata": {
        "id": "DTqyUu_E-3qP",
        "colab_type": "code",
        "colab": {
          "base_uri": "https://localhost:8080/",
          "height": 263
        },
        "outputId": "b187200d-452d-41cd-c260-b7a0e30c318c"
      },
      "source": [
        "mdepth=np.arange(1,40)\n",
        "grid={\"criterion\":[\"gini\",\"entropy\"],\"max_depth\":mdepth}\n",
        "for i in [10]:\n",
        "  originalclass = []\n",
        "  predictedclass = []\n",
        "  def classification_report_with_accuracy_score(y_true, y_pred):\n",
        "    originalclass.extend(y_true)\n",
        "    predictedclass.extend(y_pred)\n",
        "    return accuracy_score(y_true, y_pred) \n",
        "  model = DecisionTreeClassifier(random_state=1)\n",
        "  cv = StratifiedKFold(n_splits=i, shuffle=True, random_state=1)\n",
        "  grid_search = GridSearchCV(estimator=model, param_grid=grid, n_jobs=-1, cv=cv, scoring='accuracy',error_score=0)\n",
        "  nested_score = cross_val_score(grid_search, X, y, cv=cv, scoring=make_scorer(classification_report_with_accuracy_score)) \n",
        "  print(\"\\n\", i, \" fold\")\n",
        "  print(classification_report(originalclass, predictedclass)) \n",
        "  tn, fp, fn, tp = confusion_matrix(originalclass, predictedclass).ravel()\n",
        "  print( tn, fp, fn, tp)\n",
        "  false_positive_rate, true_positive_rate, thresholds = roc_curve(originalclass, predictedclass)\n",
        "  roc_auc = auc(false_positive_rate, true_positive_rate)\n",
        "  print(\"AUC :\", roc_auc)\n",
        "  print(\"Accuracy :\", np.mean(nested_score))"
      ],
      "execution_count": null,
      "outputs": [
        {
          "output_type": "stream",
          "text": [
            "\n",
            " 10  fold\n",
            "              precision    recall  f1-score   support\n",
            "\n",
            "           0       1.00      0.96      0.98        28\n",
            "           1       0.97      1.00      0.98        28\n",
            "\n",
            "    accuracy                           0.98        56\n",
            "   macro avg       0.98      0.98      0.98        56\n",
            "weighted avg       0.98      0.98      0.98        56\n",
            "\n",
            "27 1 0 28\n",
            "AUC : 0.9821428571428572\n",
            "Accuracy : 0.9833333333333334\n"
          ],
          "name": "stdout"
        }
      ]
    },
    {
      "cell_type": "markdown",
      "metadata": {
        "id": "zL50aKAG_ACk",
        "colab_type": "text"
      },
      "source": [
        "ridge classifier"
      ]
    },
    {
      "cell_type": "code",
      "metadata": {
        "id": "3uVaRjiC-88T",
        "colab_type": "code",
        "colab": {}
      },
      "source": [
        "from sklearn.linear_model import RidgeClassifier\n",
        "alpha = [0.1, 0.2, 0.3, 0.4, 0.5, 0.6, 0.7, 0.8, 0.9, 1.0]\n",
        "# define grid search\n",
        "grid = dict(alpha=alpha)\n",
        "for i in [10]:\n",
        "  originalclass = []\n",
        "  predictedclass = []\n",
        "  def classification_report_with_accuracy_score(y_true, y_pred):\n",
        "    originalclass.extend(y_true)\n",
        "    predictedclass.extend(y_pred)\n",
        "    return accuracy_score(y_true, y_pred) \n",
        "  model = RidgeClassifier()\n",
        "  cv = StratifiedKFold(n_splits=i, shuffle=True, random_state=1)\n",
        "  grid_search = GridSearchCV(estimator=model, param_grid=grid, n_jobs=-1, cv=cv, scoring='accuracy',error_score=0)\n",
        "  nested_score = cross_val_score(grid_search, X, y, cv=cv, scoring=make_scorer(classification_report_with_accuracy_score)) \n",
        "  print(\"\\n\", i, \" fold\")\n",
        "  print(classification_report(originalclass, predictedclass)) \n",
        "  tn, fp, fn, tp = confusion_matrix(originalclass, predictedclass).ravel()\n",
        "  print( tn, fp, fn, tp)\n",
        "  false_positive_rate, true_positive_rate, thresholds = roc_curve(originalclass, predictedclass)\n",
        "  roc_auc = auc(false_positive_rate, true_positive_rate)\n",
        "  print(\"AUC :\", roc_auc)\n",
        "  print(\"Accuracy :\", np.mean(nested_score))"
      ],
      "execution_count": null,
      "outputs": []
    }
  ]
}